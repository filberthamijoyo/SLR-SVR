{
  "nbformat": 4,
  "nbformat_minor": 0,
  "metadata": {
    "colab": {
      "provenance": [],
      "toc_visible": true
    },
    "kernelspec": {
      "name": "python3",
      "display_name": "Python 3"
    }
  },
  "cells": [
    {
      "cell_type": "markdown",
      "metadata": {
        "id": "l_LulNCC8z96"
      },
      "source": [
        "# Simple Linear Regression"
      ]
    },
    {
      "cell_type": "markdown",
      "metadata": {
        "id": "xpXdowrE9DxW"
      },
      "source": [
        "## Importing the libraries"
      ]
    },
    {
      "cell_type": "code",
      "metadata": {
        "id": "nhKd4hWx9GFt"
      },
      "source": [
        "import numpy as np\n",
        "import pandas as pd\n",
        "from sklearn.linear_model import LinearRegression\n",
        "import matplotlib.pyplot as plt\n",
        "from numpy.linalg import inv, pinv"
      ],
      "execution_count": 17,
      "outputs": []
    },
    {
      "cell_type": "markdown",
      "metadata": {
        "id": "6JhpWJi59J1p"
      },
      "source": [
        "## Importing the dataset"
      ]
    },
    {
      "cell_type": "code",
      "metadata": {
        "id": "f8GfYDZ59O18"
      },
      "source": [
        "train_data = pd.read_csv('linear_regression_train.txt', sep=\" \", header=None)\n",
        "X_train = train_data.iloc[:, :-1]\n",
        "y_train = train_data.iloc[:, -1]\n",
        "test_data = pd.read_csv('linear_regression_test.txt', sep=\" \", header=None)\n",
        "X_test = test_data.values"
      ],
      "execution_count": 42,
      "outputs": []
    },
    {
      "cell_type": "markdown",
      "metadata": {
        "id": "AyhQaTwP9RzG"
      },
      "source": [
        "## Splitting the dataset into the Training set and Test set"
      ]
    },
    {
      "cell_type": "code",
      "metadata": {
        "id": "bxOOauiN9VpC"
      },
      "source": [
        "#splitted already"
      ],
      "execution_count": null,
      "outputs": []
    },
    {
      "cell_type": "markdown",
      "metadata": {
        "id": "ZijQwFMQ9itx"
      },
      "source": [
        "## 1.1"
      ]
    },
    {
      "cell_type": "code",
      "metadata": {
        "id": "B4Aj_8YJ9l7J",
        "colab": {
          "base_uri": "https://localhost:8080/"
        },
        "outputId": "9ee7c28e-2fcd-4478-f2c4-850107c0d07c"
      },
      "source": [
        "regressor = LinearRegression()\n",
        "regressor.fit(X_train, y_train)\n",
        "\n",
        "w0 = regressor.intercept_\n",
        "w = regressor.coef_\n",
        "\n",
        "y_pred_test = regressor.predict(X_test)\n",
        "y_pred_train = regressor.predict(X_train)\n",
        "\n",
        "print(f\"Bias (w0):\", w0)\n",
        "for i, coef in enumerate(w, start=1):\n",
        "    print(f\"w{i}: {coef}\")\n",
        "\n",
        "print(\"Predicted y values:\")\n",
        "for i, pred in enumerate(y_pred_test, start=1):\n",
        "    print(f\"y{i}: {pred}\")"
      ],
      "execution_count": 46,
      "outputs": [
        {
          "output_type": "stream",
          "name": "stdout",
          "text": [
            "Bias (w0): 3.6136460266690658\n",
            "w1: 0.015325690386247162\n",
            "w2: 0.00025227640633962434\n",
            "w3: 0.0007203868499651746\n",
            "w4: 0.9991635645789794\n",
            "w5: 0.9997402360310115\n",
            "w6: 1.0006233993583622\n",
            "w7: 0.9988323588429897\n",
            "w8: 1.0000013015236562\n",
            "w9: 1.000224548355873\n",
            "w10: 0.9990396151482003\n",
            "w11: 0.9993448460859436\n",
            "Predicted y values:\n",
            "y1: -56.111296879584195\n",
            "y2: -173.51651970931798\n",
            "y3: -6.770877912226837\n",
            "y4: 209.5170904418719\n",
            "y5: 116.8902978509852\n",
            "y6: -100.2908452723578\n",
            "y7: -310.12783900144865\n",
            "y8: 501.3863019426078\n",
            "y9: 244.11476780856407\n",
            "y10: 18.56639325455041\n"
          ]
        }
      ]
    },
    {
      "cell_type": "markdown",
      "source": [
        "## 1.2"
      ],
      "metadata": {
        "id": "lDR1pHMp16om"
      }
    },
    {
      "cell_type": "code",
      "source": [
        "X_train_bias = np.c_[np.ones(X_train.shape[0]), X_train]\n",
        "X_test_bias = np.c_[np.ones(X_test.shape[0]), X_test]\n",
        "\n",
        "# w = (XTX)^(-1) * XTy\n",
        "XTX = X_train_bias.T @ X_train_bias\n",
        "XTy = X_train_bias.T @ y_train\n",
        "XTX_inv = inv(XTX)\n",
        "w = XTX_inv @ XTy\n",
        "\n",
        "w0 = w[0]\n",
        "weights = w[1:]\n",
        "\n",
        "y_pred = X_test_bias @ w\n",
        "\n",
        "print(f\"Bias (w0): {w0}\")\n",
        "for i, wei in enumerate(weights, start=1):\n",
        "    print(f\"w{i}: {wei}\")\n",
        "\n",
        "# Print the predicted values for the test set\n",
        "print(\"Predicted y values:\")\n",
        "for i, pred in enumerate(y_pred, start=1):\n",
        "    print(f\"y{i}: {pred}\")"
      ],
      "metadata": {
        "colab": {
          "base_uri": "https://localhost:8080/"
        },
        "id": "-K6cLoWI19Pr",
        "outputId": "12e57e2c-13f2-42e6-b052-438bf1ac238b"
      },
      "execution_count": 45,
      "outputs": [
        {
          "output_type": "stream",
          "name": "stdout",
          "text": [
            "Bias (w0): 3.613646026668923\n",
            "w1: 0.015325690386246506\n",
            "w2: 0.000252276406340882\n",
            "w3: 0.0007203868499652336\n",
            "w4: 0.999163564578979\n",
            "w5: 0.9997402360310119\n",
            "w6: 1.0006233993583626\n",
            "w7: 0.998832358842989\n",
            "w8: 1.0000013015236553\n",
            "w9: 1.000224548355873\n",
            "w10: 0.999039615148201\n",
            "w11: 0.9993448460859438\n",
            "Predicted y values:\n",
            "y1: -56.111296879584394\n",
            "y2: -173.51651970931823\n",
            "y3: -6.770877912227036\n",
            "y4: 209.51709044187186\n",
            "y5: 116.89029785098498\n",
            "y6: -100.29084527235781\n",
            "y7: -310.1278390014488\n",
            "y8: 501.38630194260753\n",
            "y9: 244.11476780856384\n",
            "y10: 18.56639325455026\n"
          ]
        }
      ]
    },
    {
      "cell_type": "markdown",
      "metadata": {
        "id": "-zSoMZ-P9v8t"
      },
      "source": [
        "## Visualising the Training set results"
      ]
    },
    {
      "cell_type": "code",
      "metadata": {
        "id": "IAePn_u-93tI"
      },
      "source": [
        "# feature_index = 0\n",
        "\n",
        "# plt.figure(figsize=(10, 6))\n",
        "\n",
        "# plt.scatter(X_train[:, feature_index], y_train, color='red', alpha=0.5, label='Actual')\n",
        "\n",
        "# plt.scatter(X_train[:, feature_index], y_pred_train, color='blue', alpha=0.5, label='Predicted')\n",
        "\n",
        "# plt.xlabel(f'Feature {feature_index}')\n",
        "# plt.ylabel('Target (y)')\n",
        "# plt.title('Actual vs. Predicted Values on Training Set')\n",
        "# plt.legend()\n",
        "# plt.show()"
      ],
      "execution_count": 1,
      "outputs": []
    },
    {
      "cell_type": "markdown",
      "metadata": {
        "id": "EUX1Vhsv97ZT"
      },
      "source": [
        "## Visualising the Test set results"
      ]
    },
    {
      "cell_type": "code",
      "metadata": {
        "id": "Ze9vpBTf-Bol"
      },
      "source": [
        "# feature_index = 0\n",
        "\n",
        "# plt.figure(figsize=(10, 6))\n",
        "# plt.scatter(X_test[:, feature_index], y_pred_test, color='green', alpha=0.7, label='Predicted')\n",
        "# plt.xlabel(f'Feature {feature_index}')\n",
        "# plt.ylabel('Predicted Target (y)')\n",
        "# plt.title('Predicted Values on Test Set')\n",
        "# plt.legend()\n",
        "# plt.show()\n",
        "\n",
        "# # no actual y to compare with"
      ],
      "execution_count": 2,
      "outputs": []
    }
  ]
}